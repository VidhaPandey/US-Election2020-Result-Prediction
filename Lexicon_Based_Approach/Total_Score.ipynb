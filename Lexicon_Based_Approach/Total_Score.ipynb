{
 "cells": [
  {
   "cell_type": "code",
   "execution_count": 3,
   "metadata": {},
   "outputs": [
    {
     "name": "stderr",
     "output_type": "stream",
     "text": [
      "[nltk_data] Downloading package vader_lexicon to\n",
      "[nltk_data]     C:\\Users\\dell\\AppData\\Roaming\\nltk_data...\n",
      "[nltk_data]   Package vader_lexicon is already up-to-date!\n"
     ]
    }
   ],
   "source": [
    "import nltk\n",
    "import csv\n",
    "import pandas as pd\n",
    "nltk.download('vader_lexicon')\n",
    "from nltk.sentiment.vader import SentimentIntensityAnalyzer\n",
    "analyser = SentimentIntensityAnalyzer()"
   ]
  },
  {
   "cell_type": "code",
   "execution_count": 5,
   "metadata": {},
   "outputs": [
    {
     "name": "stdout",
     "output_type": "stream",
     "text": [
      "8879\n",
      "7792\n"
     ]
    }
   ],
   "source": [
    "with open('ustweetsCSV.csv','r',encoding='utf-8') as infile:\n",
    "    with open('vadertotal.csv','w',encoding='utf-8')as outfile:\n",
    "        var_list = [\"Tweets\",'Score']\n",
    "        writer = csv.DictWriter(outfile, fieldnames = var_list, lineterminator = '\\n')\n",
    "        writer.writeheader()\n",
    "        file=csv.reader(infile)\n",
    "        p=0\n",
    "        n=0\n",
    "        for line in infile:\n",
    "            tw={}\n",
    "            score=analyser.polarity_scores(line)\n",
    "            if(score['compound']>=0.05):\n",
    "                scores=1\n",
    "                p=p+1\n",
    "            if(score['compound']<=-0.05):\n",
    "                scores=-1\n",
    "                n=n+1\n",
    "            elif(score['compound']>=-0.05) and(score['compound']<=0.05) :\n",
    "                scores=0\n",
    "            #print(line,scores)\n",
    "            tw['Tweets']=line\n",
    "            tw['Score']=scores\n",
    "            writer.writerow(tw)\n",
    "        print(p)\n",
    "        print(n)"
   ]
  },
  {
   "cell_type": "code",
   "execution_count": null,
   "metadata": {},
   "outputs": [],
   "source": []
  }
 ],
 "metadata": {
  "kernelspec": {
   "display_name": "Python 3",
   "language": "python",
   "name": "python3"
  },
  "language_info": {
   "codemirror_mode": {
    "name": "ipython",
    "version": 3
   },
   "file_extension": ".py",
   "mimetype": "text/x-python",
   "name": "python",
   "nbconvert_exporter": "python",
   "pygments_lexer": "ipython3",
   "version": "3.7.6"
  }
 },
 "nbformat": 4,
 "nbformat_minor": 4
}
