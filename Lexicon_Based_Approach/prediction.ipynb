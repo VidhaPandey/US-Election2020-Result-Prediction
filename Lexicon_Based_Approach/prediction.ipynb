{
 "cells": [
  {
   "cell_type": "code",
   "execution_count": 1,
   "metadata": {},
   "outputs": [
    {
     "name": "stderr",
     "output_type": "stream",
     "text": [
      "[nltk_data] Downloading package vader_lexicon to\n",
      "[nltk_data]     C:\\Users\\dell\\AppData\\Roaming\\nltk_data...\n",
      "[nltk_data]   Package vader_lexicon is already up-to-date!\n"
     ]
    }
   ],
   "source": [
    "import nltk\n",
    "import csv\n",
    "import pandas as pd\n",
    "nltk.download('vader_lexicon')\n",
    "from nltk.sentiment.vader import SentimentIntensityAnalyzer\n",
    "analyser = SentimentIntensityAnalyzer()"
   ]
  },
  {
   "cell_type": "code",
   "execution_count": 2,
   "metadata": {},
   "outputs": [
    {
     "name": "stdout",
     "output_type": "stream",
     "text": [
      "8860\n",
      "7740\n"
     ]
    }
   ],
   "source": [
    "with open('USTweetsCSV.csv','r',encoding='utf-8') as infile:\n",
    "    with open('vadertotal.csv','w',encoding='utf-8')as outfile:\n",
    "        var_list = [\"Tweets\",'Score']\n",
    "        writer = csv.DictWriter(outfile, fieldnames = var_list, lineterminator = '\\n')\n",
    "        writer.writeheader()\n",
    "        file=csv.reader(infile)\n",
    "        p=0\n",
    "        n=0\n",
    "        for line in infile:\n",
    "            tw={}\n",
    "            score=analyser.polarity_scores(line)\n",
    "            if(score['compound']>=0.05):\n",
    "                scores=1\n",
    "                p=p+1\n",
    "            if(score['compound']<=-0.05):\n",
    "                scores=-1\n",
    "                n=n+1\n",
    "            elif(score['compound']>=-0.05) and(score['compound']<=0.05) :\n",
    "                scores=0\n",
    "            #print(line,scores)\n",
    "            tw['Tweets']=line\n",
    "            tw['Score']=scores\n",
    "            writer.writerow(tw)\n",
    "        print(p)\n",
    "        print(n)"
   ]
  },
  {
   "cell_type": "markdown",
   "metadata": {},
   "source": [
    "Function for manual hashtag labelling and vader scoring"
   ]
  },
  {
   "cell_type": "code",
   "execution_count": 11,
   "metadata": {},
   "outputs": [],
   "source": [
    "def vader(outfile,neg,pos):\n",
    "    var_list = [\"Tweets\",'hash','Score']\n",
    "    writer = csv.DictWriter(outfile, fieldnames = var_list, lineterminator = '\\n')\n",
    "    writer.writeheader()\n",
    "    file=csv.reader(infile)\n",
    "    p1=0\n",
    "    n1=0\n",
    "    for row in file:\n",
    "        tw={}\n",
    "        line=row[1]\n",
    "        \n",
    "        hashtags=row[2]\n",
    "        for hasht in hashtags.split(','):\n",
    "            if hasht in neg:\n",
    "                scores=-1\n",
    "                break                       \n",
    "            elif hasht in pos:\n",
    "                scores=1\n",
    "                break \n",
    "            else:\n",
    "                scores=0\n",
    "        if scores==0:\n",
    "            score=analyser.polarity_scores(line)\n",
    "            if(score['compound']>=0.05):\n",
    "                scores=1\n",
    "            if(score['compound']<=-0.05):\n",
    "                scores=-1\n",
    "            elif(score['compound']>=-0.05) and(score['compound']<=0.05) :\n",
    "                scores=0\n",
    "        tw['Tweets']=row[1]\n",
    "        tw['hash']=row[2]\n",
    "        tw['Score']=scores\n",
    "        if(scores==1):\n",
    "            p1=p1+1\n",
    "        elif(scores==-1):\n",
    "            n1=n1+1\n",
    "        writer.writerow(tw)\n",
    "    t=n1+p1\n",
    "    print(t)\n",
    "    print(p1)\n",
    "    pvt=p1/(p1+n1)\n",
    "    return(pvt)"
   ]
  },
  {
   "cell_type": "code",
   "execution_count": 12,
   "metadata": {},
   "outputs": [
    {
     "name": "stdout",
     "output_type": "stream",
     "text": [
      "9311\n",
      "1622\n",
      "0.17420255611642144\n"
     ]
    }
   ],
   "source": [
    "with open('trump.csv','r',encoding='utf-8') as infile:\n",
    "    with open('trumpscore.csv','w',encoding='utf-8')as outfile:\n",
    "        negtwt=['protest2020','protests2020','donaldout','dictatortrump','trumpout2020','trumpdictatorship','trumpout','bunkerboy','trumpresignnow','americaortrump','georgefloyd','justiceforgeorgefloyd']\n",
    "        postwt=['trump2020','blackvoicesfortrump','trumpsupporters','donaldtrump2020','womenfortrump']\n",
    "        pvtt=vader(outfile,negtwt,postwt)\n",
    "        print(pvtt)"
   ]
  },
  {
   "cell_type": "code",
   "execution_count": 13,
   "metadata": {},
   "outputs": [
    {
     "name": "stdout",
     "output_type": "stream",
     "text": [
      "4971\n",
      "3411\n",
      "0.6861798430899215\n"
     ]
    }
   ],
   "source": [
    "with open('biden.csv','r',encoding='utf-8') as infile:\n",
    "    with open('bidenscore.csv','w',encoding='utf-8')as outfile:\n",
    "        negtwt=['youaintblack','neverbiden','blacklivesmatter','joebidenhasdementia','bidendropout','joebidenisaracist','joebidenisracist','joebidenisarapist','bideniscorrupt','hunterbiden','joebidenforjail']\n",
    "        postwt=['presidentbiden','bidenforpresident2020','gojoe','votejoebidentosaveamerica','biden2020','joebiden2020','nevertrumpneverbiden','presidentbiden']\n",
    "        pvtj=vader(outfile,negtwt,postwt)\n",
    "        print(pvtj)"
   ]
  },
  {
   "cell_type": "code",
   "execution_count": 14,
   "metadata": {},
   "outputs": [
    {
     "name": "stdout",
     "output_type": "stream",
     "text": [
      "Predicted Winner is Joe Biden\n"
     ]
    }
   ],
   "source": [
    "if pvtt>pvtj:\n",
    "    print(\"Predicted Winner Is Donald Trump\")\n",
    "else:\n",
    "    print(\"Predicted Winner is Joe Biden\")"
   ]
  }
 ],
 "metadata": {
  "kernelspec": {
   "display_name": "Python 3",
   "language": "python",
   "name": "python3"
  },
  "language_info": {
   "codemirror_mode": {
    "name": "ipython",
    "version": 3
   },
   "file_extension": ".py",
   "mimetype": "text/x-python",
   "name": "python",
   "nbconvert_exporter": "python",
   "pygments_lexer": "ipython3",
   "version": "3.7.6"
  }
 },
 "nbformat": 4,
 "nbformat_minor": 4
}
