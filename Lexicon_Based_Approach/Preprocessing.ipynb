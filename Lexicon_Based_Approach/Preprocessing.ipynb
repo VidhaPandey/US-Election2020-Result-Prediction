{
 "cells": [
  {
   "cell_type": "code",
   "execution_count": 20,
   "metadata": {},
   "outputs": [
    {
     "name": "stdout",
     "output_type": "stream",
     "text": [
      "Requirement already satisfied: nltk in c:\\users\\dell\\anaconda2\\envs\\env1\\lib\\site-packages (3.5)Note: you may need to restart the kernel to use updated packages.\n",
      "Requirement already satisfied: regex in c:\\users\\dell\\anaconda2\\envs\\env1\\lib\\site-packages (from nltk) (2020.5.7)\n",
      "\n",
      "Requirement already satisfied: joblib in c:\\users\\dell\\anaconda2\\envs\\env1\\lib\\site-packages (from nltk) (0.14.1)\n",
      "Requirement already satisfied: tqdm in c:\\users\\dell\\anaconda2\\envs\\env1\\lib\\site-packages (from nltk) (4.46.0)\n",
      "Requirement already satisfied: click in c:\\users\\dell\\anaconda2\\envs\\env1\\lib\\site-packages (from nltk) (7.1.2)\n"
     ]
    }
   ],
   "source": [
    "pip install nltk"
   ]
  },
  {
   "cell_type": "code",
   "execution_count": 21,
   "metadata": {},
   "outputs": [
    {
     "name": "stderr",
     "output_type": "stream",
     "text": [
      "[nltk_data] Downloading package stopwords to\n",
      "[nltk_data]     C:\\Users\\dell\\AppData\\Roaming\\nltk_data...\n",
      "[nltk_data]   Package stopwords is already up-to-date!\n"
     ]
    }
   ],
   "source": [
    "import nltk\n",
    "nltk.download('stopwords')\n",
    "import csv\n",
    "import io\n",
    "import string"
   ]
  },
  {
   "cell_type": "code",
   "execution_count": 22,
   "metadata": {},
   "outputs": [],
   "source": [
    "from nltk.corpus import stopwords\n",
    "stop_words=set(stopwords.words('english'))"
   ]
  },
  {
   "cell_type": "code",
   "execution_count": 23,
   "metadata": {},
   "outputs": [],
   "source": [
    "#remove negative words from stopwords\n",
    "import re\n",
    "l1=[]\n",
    "l2=[]\n",
    "l3=['no','nor','couldn','hasn','hadn','haven','didn','but']\n",
    "for i in stop_words:\n",
    "    str=''\n",
    "    x=re.findall('(.*n.t$)',i)\n",
    "    if len(x)!=0:\n",
    "        a=str.join(x)\n",
    "        l2.append(a)\n",
    "\n",
    "for i in stop_words:\n",
    "    if not i in l2:\n",
    "        if i not in l3:\n",
    "            l1.append(i)\n",
    "#print(l1)#l1 is list of stopwords without negative words\n",
    "\n",
    "    "
   ]
  },
  {
   "cell_type": "code",
   "execution_count": 24,
   "metadata": {},
   "outputs": [
    {
     "name": "stdout",
     "output_type": "stream",
     "text": [
      "Requirement already satisfied: pandas in c:\\users\\dell\\anaconda2\\envs\\env1\\lib\\site-packages (1.0.3)\n",
      "Requirement already satisfied: pytz>=2017.2 in c:\\users\\dell\\anaconda2\\envs\\env1\\lib\\site-packages (from pandas) (2020.1)\n",
      "Requirement already satisfied: numpy>=1.13.3 in c:\\users\\dell\\anaconda2\\envs\\env1\\lib\\site-packages (from pandas) (1.18.4)\n",
      "Requirement already satisfied: python-dateutil>=2.6.1 in c:\\users\\dell\\anaconda2\\envs\\env1\\lib\\site-packages (from pandas) (2.8.1)\n",
      "Requirement already satisfied: six>=1.5 in c:\\users\\dell\\anaconda2\\envs\\env1\\lib\\site-packages (from python-dateutil>=2.6.1->pandas) (1.14.0)\n",
      "Note: you may need to restart the kernel to use updated packages.\n"
     ]
    }
   ],
   "source": [
    "pip install pandas"
   ]
  },
  {
   "cell_type": "code",
   "execution_count": 25,
   "metadata": {},
   "outputs": [],
   "source": [
    "import re,string\n",
    "import pandas as pd\n",
    "import numpy as np\n",
    "import io\n",
    "import csv\n",
    "\n",
    "def strip_all_entities(text):\n",
    "    entity_prefixes = ['@',\"'\",'!']\n",
    "    for separator in  string.punctuation:\n",
    "        if separator not in entity_prefixes :\n",
    "            text = text.replace(separator,' ')\n",
    "    words = []\n",
    "    for word in text.split():\n",
    "        word = word.strip()\n",
    "        if word:\n",
    "            if word[0] not in entity_prefixes:\n",
    "                words.append(word)\n",
    "    return ' '.join(words)\n",
    "with io.open('ustweetsCSV.csv','r',encoding='utf-8') as infile:\n",
    "    with open('stopwordsremoved.csv','w',encoding='utf-8', newline='') as outfile:\n",
    "        x=csv.reader(infile)\n",
    "        for row in x:\n",
    "            text=row[1]\n",
    "            link_regex    = re.compile('((https?):((//)|(\\\\\\\\))+([\\w\\d:#@%/;$()~_?\\+-=\\\\\\.&](#!)?)*)', re.DOTALL)\n",
    "            links         = re.findall(link_regex, text)\n",
    "            for link in links:\n",
    "                text = text.replace(link[0], ', ') \n",
    "            k=strip_all_entities(text)\n",
    "            new=''\n",
    "            for i in k.split():\n",
    "                if not i in l1: \n",
    "                    new=new+' '+i\n",
    "            row[1]=new\n",
    "            low=np.char.lower(row)\n",
    "            writer=csv.writer(outfile)\n",
    "            writer.writerow(low)\n",
    "outfile.close()\n",
    "infile.close()"
   ]
  }
 ],
 "metadata": {
  "kernelspec": {
   "display_name": "Python 3",
   "language": "python",
   "name": "python3"
  },
  "language_info": {
   "codemirror_mode": {
    "name": "ipython",
    "version": 3
   },
   "file_extension": ".py",
   "mimetype": "text/x-python",
   "name": "python",
   "nbconvert_exporter": "python",
   "pygments_lexer": "ipython3",
   "version": "3.7.6"
  }
 },
 "nbformat": 4,
 "nbformat_minor": 2
}
