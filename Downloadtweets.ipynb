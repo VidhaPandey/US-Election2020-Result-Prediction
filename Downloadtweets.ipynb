{
 "cells": [
  {
   "cell_type": "code",
   "execution_count": 1,
   "metadata": {},
   "outputs": [],
   "source": [
    "#pip install tweepy"
   ]
  },
  {
   "cell_type": "code",
   "execution_count": 2,
   "metadata": {},
   "outputs": [
    {
     "name": "stdout",
     "output_type": "stream",
     "text": [
      "{\"created_at\":\"Sun Jun 14 16:28:00 +0000 2020\",\"id\":1272204149157801986,\"id_str\":\"1272204149157801986\",\"text\":\"You were born an original work of art. Stay original always. Originals cost more than imitations. Suzy Kassem\\u2026 https:\\/\\/t.co\\/2SZO2RdgXQ\",\"source\":\"\\u003ca href=\\\"https:\\/\\/about.twitter.com\\/products\\/tweetdeck\\\" rel=\\\"nofollow\\\"\\u003eTweetDeck\\u003c\\/a\\u003e\",\"truncated\":true,\"in_reply_to_status_id\":null,\"in_reply_to_status_id_str\":null,\"in_reply_to_user_id\":null,\"in_reply_to_user_id_str\":null,\"in_reply_to_screen_name\":null,\"user\":{\"id\":1008819048354852864,\"id_str\":\"1008819048354852864\",\"name\":\"Ana Leen, the Int'l Author, Counselor & Speaker\",\"screen_name\":\"LeenGoto\",\"location\":\"United States\",\"url\":\"http:\\/\\/amazon.com\\/author\\/analeen-millennialcounselor\",\"description\":\"\\ud83d\\ude42Jesus Christ is LORD | Intercessor |Marriage, Bedroom & Family #Therapy |Rehab, Mental Health, Education & Life Skills http:\\/\\/eepurl.com\\/dMJQWY #askanatoday\",\"translator_type\":\"none\",\"protected\":false,\"verified\":false,\"followers_count\":1242,\"friends_count\":1123,\"listed_count\":21,\"favourites_count\":7514,\"statuses_count\":19620,\"created_at\":\"Mon Jun 18 21:09:38 +0000 2018\",\"utc_offset\":null,\"time_zone\":null,\"geo_enabled\":false,\"lang\":null,\"contributors_enabled\":false,\"is_translator\":false,\"profile_background_color\":\"000000\",\"profile_background_image_url\":\"http:\\/\\/abs.twimg.com\\/images\\/themes\\/theme1\\/bg.png\",\"profile_background_image_url_https\":\"https:\\/\\/abs.twimg.com\\/images\\/themes\\/theme1\\/bg.png\",\"profile_background_tile\":false,\"profile_link_color\":\"981CEB\",\"profile_sidebar_border_color\":\"000000\",\"profile_sidebar_fill_color\":\"000000\",\"profile_text_color\":\"000000\",\"profile_use_background_image\":false,\"profile_image_url\":\"http:\\/\\/pbs.twimg.com\\/profile_images\\/1056191049360564225\\/WWXxYYIy_normal.jpg\",\"profile_image_url_https\":\"https:\\/\\/pbs.twimg.com\\/profile_images\\/1056191049360564225\\/WWXxYYIy_normal.jpg\",\"profile_banner_url\":\"https:\\/\\/pbs.twimg.com\\/profile_banners\\/1008819048354852864\\/1568238579\",\"default_profile\":false,\"default_profile_image\":false,\"following\":null,\"follow_request_sent\":null,\"notifications\":null},\"geo\":null,\"coordinates\":null,\"place\":null,\"contributors\":null,\"is_quote_status\":false,\"extended_tweet\":{\"full_text\":\"You were born an original work of art. Stay original always. Originals cost more than imitations. Suzy Kassem \\n\\n#ThinkBIGSundayWithMarsha #AskAnaToday #counseling101 #painandpurposeofbetrayal #defstar5 #alllivesmatter #ProfessionalCounseling #makeyourownlane  #IAM #familyTRAIN\",\"display_text_range\":[0,277],\"entities\":{\"hashtags\":[{\"text\":\"ThinkBIGSundayWithMarsha\",\"indices\":[112,137]},{\"text\":\"AskAnaToday\",\"indices\":[138,150]},{\"text\":\"counseling101\",\"indices\":[151,165]},{\"text\":\"painandpurposeofbetrayal\",\"indices\":[166,191]},{\"text\":\"defstar5\",\"indices\":[192,201]},{\"text\":\"alllivesmatter\",\"indices\":[202,217]},{\"text\":\"ProfessionalCounseling\",\"indices\":[218,241]},{\"text\":\"makeyourownlane\",\"indices\":[242,258]},{\"text\":\"IAM\",\"indices\":[260,264]},{\"text\":\"familyTRAIN\",\"indices\":[265,277]}],\"urls\":[],\"user_mentions\":[],\"symbols\":[]}},\"quote_count\":0,\"reply_count\":0,\"retweet_count\":0,\"favorite_count\":0,\"entities\":{\"hashtags\":[],\"urls\":[{\"url\":\"https:\\/\\/t.co\\/2SZO2RdgXQ\",\"expanded_url\":\"https:\\/\\/twitter.com\\/i\\/web\\/status\\/1272204149157801986\",\"display_url\":\"twitter.com\\/i\\/web\\/status\\/1\\u2026\",\"indices\":[111,134]}],\"user_mentions\":[],\"symbols\":[]},\"favorited\":false,\"retweeted\":false,\"filter_level\":\"low\",\"lang\":\"en\",\"timestamp_ms\":\"1592152080226\"}\r\n",
      "\n"
     ]
    }
   ],
   "source": [
    "#Import the necessary methods from tweepy library\n",
    "from tweepy.streaming import StreamListener\n",
    "from tweepy import OAuthHandler\n",
    "from tweepy import Stream\n",
    "import re\n",
    "# Enter Twitter API Keys\n",
    "access_token=\"1180361697422262272-7amGKvGO3m4Hc6t5UVXA6LVZ17U55E\"\n",
    "access_token_secret = \"UYOc4plZNleOPz8dazDFJMCLBw052OU8LfUXo9s48OQ2q\"\n",
    "consumer_key = \"sALOsQtCAqRlwVg21Vo0LJQYH\"\n",
    "consumer_secret = \"7A0ffkVI0Xm61D2vNhJXOTb5hPMdqeaMm1QQeoOs1dwvXDF3X4\"\n",
    "# Create tracklist with the words that will be searched for\n",
    "tracklist = ['#georgefloydprotests','#alllivesmatter','#votebluetosaveamerica','#blackvoicesfortrump','#joebidenisaracist','#election2020','#voteblue']\n",
    "# Initialize Global variable\n",
    "tweet_count = 0\n",
    "# Input number of tweets to be downloaded\n",
    "n_tweets =1\n",
    "# Create the class that will handle the tweet stream\n",
    "class StdOutListener(StreamListener):      \n",
    "    def on_data(self, data):\n",
    "        global tweet_count\n",
    "        global n_tweets\n",
    "        global stream\n",
    "        if tweet_count < n_tweets:\n",
    "            print(data)\n",
    "            tweet_count += 1\n",
    "            return True\n",
    "        else:\n",
    "            stream.disconnect()\n",
    "    def on_error(self, status):\n",
    "        print(status)\n",
    "# Handles Twitter authetification and the connection to Twitter Streaming API\n",
    "l = StdOutListener()\n",
    "auth = OAuthHandler(consumer_key, consumer_secret)\n",
    "auth.set_access_token(access_token, access_token_secret)\n",
    "stream = Stream(auth, l)\n",
    "stream.filter(track=tracklist)"
   ]
  }
 ],
 "metadata": {
  "kernelspec": {
   "display_name": "Python 3",
   "language": "python",
   "name": "python3"
  },
  "language_info": {
   "codemirror_mode": {
    "name": "ipython",
    "version": 3
   },
   "file_extension": ".py",
   "mimetype": "text/x-python",
   "name": "python",
   "nbconvert_exporter": "python",
   "pygments_lexer": "ipython3",
   "version": "3.7.6"
  }
 },
 "nbformat": 4,
 "nbformat_minor": 2
}
