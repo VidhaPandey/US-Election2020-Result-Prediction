{
 "cells": [
  {
   "cell_type": "code",
   "execution_count": 1,
   "metadata": {},
   "outputs": [],
   "source": [
    "#TITLE:Social Media Sentiment Analysis Using Twitter Dataset"
   ]
  },
  {
   "cell_type": "code",
   "execution_count": 1,
   "metadata": {},
   "outputs": [],
   "source": [
    "import json\n",
    "import csv\n",
    "import io"
   ]
  },
  {
   "cell_type": "code",
   "execution_count": 2,
   "metadata": {},
   "outputs": [],
   "source": [
    "json_file = \"second25000.json\"\n",
    "csv_file = \"usCSV2.csv\""
   ]
  },
  {
   "cell_type": "code",
   "execution_count": 3,
   "metadata": {},
   "outputs": [
    {
     "name": "stderr",
     "output_type": "stream",
     "text": [
      "IOPub data rate exceeded.\n",
      "The notebook server will temporarily stop sending output\n",
      "to the client in order to avoid crashing it.\n",
      "To change this limit, set the config variable\n",
      "`--NotebookApp.iopub_data_rate_limit`.\n",
      "\n",
      "Current values:\n",
      "NotebookApp.iopub_data_rate_limit=1000000.0 (bytes/sec)\n",
      "NotebookApp.rate_limit_window=3.0 (secs)\n",
      "\n"
     ]
    }
   ],
   "source": [
    "#conversion from json to csv\n",
    "with io.open(json_file, 'r',encoding='utf-8') as infile, io.open(csv_file, 'w',encoding='utf-8') as outfile:\n",
    "    var_list = ['created_at', 'text', 'hashtags','usermentions']\n",
    "    writer = csv.DictWriter(outfile, fieldnames = var_list, lineterminator = '\\n')\n",
    "    writer.writeheader()\n",
    "    for line in infile:\n",
    "        if line!='\\n':\n",
    "            print(line)\n",
    "            tweet_dict={}\n",
    "            json_dict=json.loads(line)\n",
    "            tweet_dict['created_at']=json_dict['created_at']\n",
    "            texts=json_dict['text']       \n",
    "            texts=texts.replace(',',' ')\n",
    "            texts=texts.replace(\"\\n\",' ')\n",
    "            tweet_dict['text']=texts\n",
    "            hashtags=json_dict['entities']['hashtags']\n",
    "            h_tag=[]\n",
    "            for tag in hashtags:\n",
    "                h_tag.append(tag['text'])\n",
    "            tweet_dict['hashtags'] = ','.join(h_tag)\n",
    "            usermentions=json_dict['entities']['user_mentions']\n",
    "            u_mentions=[]\n",
    "            for user in usermentions:\n",
    "                u_mentions.append(user[\"screen_name\"])\n",
    "            tweet_dict['usermentions']=','.join(u_mentions)\n",
    "            writer.writerow(tweet_dict)"
   ]
  },
  {
   "cell_type": "code",
   "execution_count": null,
   "metadata": {},
   "outputs": [],
   "source": []
  }
 ],
 "metadata": {
  "kernelspec": {
   "display_name": "Python 3",
   "language": "python",
   "name": "python3"
  },
  "language_info": {
   "codemirror_mode": {
    "name": "ipython",
    "version": 3
   },
   "file_extension": ".py",
   "mimetype": "text/x-python",
   "name": "python",
   "nbconvert_exporter": "python",
   "pygments_lexer": "ipython3",
   "version": "3.7.6"
  }
 },
 "nbformat": 4,
 "nbformat_minor": 2
}
